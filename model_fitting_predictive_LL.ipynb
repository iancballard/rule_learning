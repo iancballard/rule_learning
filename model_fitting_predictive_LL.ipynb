{
 "cells": [
  {
   "cell_type": "markdown",
   "metadata": {},
   "source": [
    "# Fits different RL models for the learning task and compares results with Bayesian model"
   ]
  },
  {
   "cell_type": "code",
   "execution_count": 1,
   "metadata": {
    "collapsed": false
   },
   "outputs": [],
   "source": [
    "import os\n",
    "import os.path as op\n",
    "import numpy as np\n",
    "import matplotlib\n",
    "import matplotlib.pyplot as plt\n",
    "import pandas as pd\n",
    "import glob\n",
    "from scipy import stats, optimize\n",
    "from pandas import DataFrame, Series\n",
    "import random as rd\n",
    "import scipy.io as sio\n",
    "import scipy.stats\n",
    "import statsmodels.formula.api as smf\n",
    "from scipy.optimize import minimize\n",
    "import multiprocessing\n",
    "import random\n",
    "from matplotlib import cm\n",
    "import math\n",
    "import seaborn as sns\n",
    "from ipyparallel import Client\n",
    "\n",
    "#R stuff\n",
    "import rpy2\n",
    "import rpy2.robjects as robjects\n",
    "import rpy2.robjects.packages as rpackages\n",
    "from rpy2.robjects.vectors import StrVector\n",
    "from rpy2.robjects.packages import importr\n",
    "from rpy2.robjects import pandas2ri\n",
    "pandas2ri.activate()\n",
    "from rpy2.robjects import r\n",
    "base = importr('base')\n",
    "afex = importr('afex')\n",
    "\n",
    "%matplotlib inline\n",
    "sns.set_context(\"paper\")"
   ]
  },
  {
   "cell_type": "code",
   "execution_count": 58,
   "metadata": {
    "collapsed": false
   },
   "outputs": [],
   "source": [
    "rc = Client()"
   ]
  },
  {
   "cell_type": "code",
   "execution_count": 2,
   "metadata": {
    "collapsed": false
   },
   "outputs": [
    {
     "data": {
      "image/png": "[encoded data removed]",
      "text/plain": [
       "<matplotlib.figure.Figure at 0x11b2eae90>"
      ]
     },
     "metadata": {},
     "output_type": "display_data"
    }
   ],
   "source": [
    "flatui = [\"#9b59b6\", \"#3498db\", \"#2ecc71\",\"#fcbf4a\", \"#ed5b61\", \"#e52c66\"]\n",
    "sns.palplot(sns.color_palette(flatui))"
   ]
  },
  {
   "cell_type": "markdown",
   "metadata": {},
   "source": [
    "# Load and Parse Data"
   ]
  },
  {
   "cell_type": "code",
   "execution_count": 3,
   "metadata": {
    "collapsed": false
   },
   "outputs": [],
   "source": [
    "sub_list = ['23','24','25','26','27','28','30','31','32','35','36','37','39','40']\n",
    "home_dir = '/Users/ianballard/Dropbox/rule_learning/'\n",
    "cond = map(str,range(1,7))\n",
    "key_map = {30:1,31:0,0:np.NaN,36:np.NaN}\n",
    "cond_map = {'1':'aandb','2':'aandborc','3':'aorb','4':'a','5':'axorb','6':'aorbandc'}\n",
    "cond_map2 = {'1':'A and B','2':'(A and B) or C','3':'A or B','4':'A','5':'A xor B','6':'(A or B) and C'}\n",
    "df = {'hits':[],'sub':[],'condition':[],'true':[],'trial':[],'a':[],'b':[],'c':[],'rt':[]}\n",
    "correct_answers =  os.path.abspath('correct_answers.mat')\n",
    "correct_answers = scipy.io.loadmat(correct_answers)\n",
    "\n",
    "for cond in cond:\n",
    "    for sub in sub_list:        \n",
    "        f = os.path.abspath('../behav_data/' + sub + '_rule_learning_' + cond + '.mat')\n",
    "        f = scipy.io.loadmat(f)\n",
    "        hits = f['subject_responses'][:,2]\n",
    "        rt = f['subject_responses'][:,6]*1000\n",
    "        correct = correct_answers['correct_answers_' + cond_map[cond]].flatten()\n",
    "        order = f['stim_order']\n",
    "\n",
    "        df['true'].extend(correct*-1 + 1)\n",
    "        df['hits'].extend(hits)\n",
    "        df['rt'].extend(rt)\n",
    "        df['sub'].extend([sub]*len(hits))\n",
    "        df['condition'].extend([cond_map2[cond]]*len(hits))\n",
    "        df['trial'].extend(range(len(hits)))\n",
    "        df['a'].extend(order[:,0] *-1 + 2)\n",
    "        df['b'].extend(order[:,1] *-1 + 2)\n",
    "        df['c'].extend(order[:,2] *-1 + 2)\n",
    "        \n",
    "df = pd.DataFrame(df)\n",
    "\n",
    "#fill in what response must have been\n",
    "true = df['true'].values.astype(bool)\n",
    "hit = df['hits'].values\n",
    "resp = []\n",
    "for n,t in enumerate(true):\n",
    "    if hit[n]:\n",
    "        resp.append(t)\n",
    "    else:\n",
    "        resp.append(not t)\n",
    "resp = np.array(resp).astype(int)\n",
    "df['resp'] = resp\n",
    "df['type'] = 'subject'\n",
    "df.to_csv(op.abspath('../behavioral_data_rt.csv'),index = False)"
   ]
  },
  {
   "cell_type": "code",
   "execution_count": 4,
   "metadata": {
    "collapsed": false
   },
   "outputs": [],
   "source": [
    "model_accuracy =  os.path.abspath('model_accuracy.mat')\n",
    "model_accuracy = scipy.io.loadmat(model_accuracy)\n",
    "model_accuracy = model_accuracy['model_accuracy']\n",
    "df2 = {}\n",
    "df2['hits'] = list(df['hits'].values) + list(model_accuracy.ravel(order='F'))\n",
    "df2['sub'] =  list(df['sub'].values) + ['model'] * 120\n",
    "df2['trial'] = list(df['trial'].values) + range(0,20)*6\n",
    "df2['condition'] = list(df['condition'].values) + list(np.repeat(['A and B','(A and B) or C','A or B','A','A xor B','(A or B) and C'],20))\n",
    "df2['type'] = list(df['type'].values) + ['model'] * 120\n",
    "\n",
    "df2 = pd.DataFrame(df2)\n",
    "df2 = df2.sort_values(by = ['type','condition','sub','trial'])\n",
    " \n",
    "df2.to_csv(op.abspath('../behavioral_data.csv'),index = False)\n",
    "bayes_predictions = df2[df2['type'] == 'model']"
   ]
  },
  {
   "cell_type": "markdown",
   "metadata": {},
   "source": [
    "# RL functions"
   ]
  },
  {
   "cell_type": "code",
   "execution_count": 5,
   "metadata": {
    "collapsed": false
   },
   "outputs": [],
   "source": [
    "#take the feature values and return a state representation\n",
    "def state_to_features(state, state_rep):\n",
    "    if state_rep == 'naive': #one feature per state\n",
    "        return [tuple(state)]\n",
    "    \n",
    "    if state_rep == 'feature': \n",
    "        features = []\n",
    "        for n,s in enumerate(state):\n",
    "            features.append(str(n) + '_'  + str(s))\n",
    "        return features\n",
    "    \n",
    "    if state_rep == 'exhaustive': #all possible combinations of features\n",
    "        features = [tuple(state)]\n",
    "        for n1,s1 in enumerate(state):\n",
    "            features.append(str(n1) + '_'  + str(s1))\n",
    "            for n2,s2 in enumerate(state):\n",
    "                if n1 < n2:\n",
    "                    features.append( str(n1) + '_'  + str(s1) + '_' +  str(n2) + '_'  + str(s2) )\n",
    "        return features"
   ]
  },
  {
   "cell_type": "code",
   "execution_count": 6,
   "metadata": {
    "collapsed": false
   },
   "outputs": [],
   "source": [
    "#get probability of each action under the softmax\n",
    "def get_prob(Q,m): \n",
    "    probs = map(lambda q: np.exp(q * m), Q)\n",
    "    probs = probs / np.sum(probs)\n",
    "    return probs"
   ]
  },
  {
   "cell_type": "code",
   "execution_count": 7,
   "metadata": {
    "collapsed": true
   },
   "outputs": [],
   "source": [
    "#return rescorla-wagner update\n",
    "def update_Q(rew,action,Q,alpha):\n",
    "    PE = rew - Q[action]\n",
    "    delta = alpha * (rew - Q[action])\n",
    "    return delta"
   ]
  },
  {
   "cell_type": "code",
   "execution_count": 45,
   "metadata": {
    "collapsed": false
   },
   "outputs": [],
   "source": [
    "def get_LL(alpha, m, gamma, mix, states, resp, outcomes, true, bayes_cond_predictions, state_rep, return_LL):\n",
    "\n",
    "    Q_values = {}\n",
    "    associabilities = {}\n",
    "    LL = 0\n",
    "    deltas = []\n",
    "    probs = []\n",
    "    for n,a in enumerate(resp):\n",
    "        #get q values for features\n",
    "        features = state_to_features(states[:,n], state_rep)\n",
    "        Q_state = np.array([0,0])\n",
    "        for feat in features:\n",
    "            if feat in Q_values.keys():\n",
    "                Q = Q_values[feat]\n",
    "            else: #initialize Q\n",
    "                Q = np.array([0.0,0.0])\n",
    "                Q_values[feat] = Q\n",
    "                associabilities[feat] = [1.0]\n",
    "            Q_state = Q_state + Q #sum up features\n",
    "        #get choice probability\n",
    "        p = get_prob(Q_state,m)[a]\n",
    "        \n",
    "        #blend with Bayesian predictions\n",
    "        hit = (outcomes[n] + 1)/2 #-1/1 coding is good for RL, 1/0 coding is good for bernoulli\n",
    "        bayes_p = scipy.stats.bernoulli.pmf(hit, bayes_cond_predictions[n])   \n",
    "        p = (1-mix)*p + mix*bayes_p\n",
    "        probs.append(p)    \n",
    "        if p < 1e-200 or np.isnan(p):\n",
    "            update = np.log(1e-200)\n",
    "        else:\n",
    "            update = np.log(p)\n",
    "        LL += update\n",
    "        \n",
    "        #update weights (with the state expectation used in PE)\n",
    "        delta_Q = update_Q(outcomes[n],a,Q_state,alpha) #get updated Q\n",
    "        deltas.append(delta_Q)\n",
    "        for feat in features:\n",
    "            Q = list(Q_values[feat])\n",
    "            Q[a] = Q[a] + delta_Q * associabilities[feat][-1]\n",
    "            Q[1-a] = Q[1-a] - delta_Q * associabilities[feat][-1]#learning is symmetric\n",
    "            Q_values[feat] = np.array(Q) \n",
    "        \n",
    "            #Update associabilities\n",
    "            new_assoc = abs(delta_Q)*gamma + (1 - gamma)*associabilities[feat][-1]\n",
    "            associabilities[feat].append(new_assoc)\n",
    "    if return_LL:\n",
    "        return LL\n",
    "    else:\n",
    "        return deltas, probs"
   ]
  },
  {
   "cell_type": "code",
   "execution_count": 9,
   "metadata": {
    "collapsed": false
   },
   "outputs": [],
   "source": [
    "def parse_params(params,assoc,bayes_mixture):\n",
    "    alpha = params[0]\n",
    "    m = params[1]\n",
    "    mix = 0\n",
    "    gamma = 0\n",
    "    if assoc:\n",
    "        gamma = params[2]\n",
    "        if bayes_mixture:\n",
    "            mix = params[3]\n",
    "    elif bayes_mixture:\n",
    "        mix = params[2]\n",
    "        \n",
    "    return alpha, m, gamma, mix"
   ]
  },
  {
   "cell_type": "code",
   "execution_count": 40,
   "metadata": {
    "collapsed": false
   },
   "outputs": [],
   "source": [
    "#compute the likelihood for run. Useful for rule-by-rule comparisone\n",
    "def get_test_LL(params,test_df,state_rep,assoc,bayes_mixture):\n",
    "    \n",
    "    alpha, m, gamma, mix = parse_params(params,assoc,bayes_mixture)\n",
    "\n",
    "    #get info for RL\n",
    "    states = np.array([test_df['a'].values,test_df['b'].values,test_df['c'].values])\n",
    "    resp = test_df['resp'].values\n",
    "    outcomes = test_df['hits'].values *2 -1\n",
    "    true = test_df['true'].values *2 -1\n",
    "\n",
    "    #get info for bayes\n",
    "    test_cond = test_df['condition'].values[0]\n",
    "    bayes_cond_predictions = bayes_predictions[bayes_predictions['condition'] == test_cond]['hits'].values\n",
    "    \n",
    "    pe,probs = get_LL(alpha, m, gamma, mix,\n",
    "                      states, resp, outcomes, true, bayes_cond_predictions,\n",
    "                      state_rep, False)\n",
    "    \n",
    "    return np.mean(probs)"
   ]
  },
  {
   "cell_type": "code",
   "execution_count": 39,
   "metadata": {
    "collapsed": false
   },
   "outputs": [],
   "source": [
    "def get_train_LL(params,train_df,state_rep,assoc,bayes_mixture):\n",
    "    \n",
    "    alpha, m, gamma, mix = parse_params(params,assoc,bayes_mixture)\n",
    "\n",
    "    LL = 0\n",
    "    #loop through runs\n",
    "    for fit_cond in set(train_df['condition'].values):\n",
    "        c = train_df[train_df['condition'] == fit_cond]\n",
    "        states = np.array([c['a'].values,c['b'].values,c['c'].values])\n",
    "        resp = c['resp'].values\n",
    "        outcomes = c['hits'].values *2 -1\n",
    "        true = c['true'].values *2 -1\n",
    "\n",
    "        #get info for bayes\n",
    "        bayes_cond_predictions = bayes_predictions[bayes_predictions['condition'] == fit_cond]['hits'].values\n",
    "        LL += get_LL(alpha, m, gamma, mix,\n",
    "                      states, resp, outcomes, true, bayes_cond_predictions,\n",
    "                      state_rep, True)\n",
    "\n",
    "    LL *= -1 #minimize\n",
    "    return LL"
   ]
  },
  {
   "cell_type": "markdown",
   "metadata": {},
   "source": [
    "# Run RL fitting"
   ]
  },
  {
   "cell_type": "code",
   "execution_count": 12,
   "metadata": {
    "collapsed": false
   },
   "outputs": [],
   "source": [
    "def fit_model(in_tuple):\n",
    "    sub, state_rep, assoc, bayes_mixture = in_tuple\n",
    "    out_f = op.abspath('../model_fitting/' + '_'.join([sub,'assoc_' + str(assoc),state_rep,'mix_' + str(bayes_mixture)]) + '.csv')\n",
    "\n",
    "    if not op.exists(out_f):\n",
    "    \n",
    "        sub_results = {'sub':[],'test_cond':[],\n",
    "                       'alpha':[],'m':[],'gamma':[],'epsilon':[],\n",
    "                       'fit_LL':[], 'model':[],'assoc':[],'bayes_mixture':[],'test_LL':[]}\n",
    "\n",
    "        sub_data = df[df['sub'] == sub]\n",
    "\n",
    "        conds = set(sub_data['condition'])\n",
    "        for cond in conds:\n",
    "\n",
    "            #fit parameters to other conditions\n",
    "            train_df = sub_data[sub_data['condition'] != cond]\n",
    "            if assoc:\n",
    "                if bayes_mixture:\n",
    "                    params = [.2,2,0,0]\n",
    "                    bounds =((0, 1), (0.01, 20), (0, 1), (0, 1))\n",
    "                else:\n",
    "                    params = [.2,2,0]\n",
    "                    bounds =((0, 1), (0.01, 20), (0, 1))\n",
    "            else:\n",
    "                if bayes_mixture:\n",
    "                    params = [.2,2,0]\n",
    "                    bounds =((0, 1), (0.01, 20), (0, 1))                \n",
    "                else:\n",
    "                    params = [.2,2]\n",
    "                    bounds =((0, 1), (0.01, 20))\n",
    "\n",
    "            res = scipy.optimize.minimize(get_train_LL, \n",
    "                                          params, \n",
    "                                          args=(train_df, state_rep, assoc, bayes_mixture),\n",
    "                                          options={'disp': True},\n",
    "                                          bounds = bounds)\n",
    "\n",
    "            #predict the likelihood of the held out condition\n",
    "            test_df = sub_data[sub_data['condition'] == cond]\n",
    "            test_LL = get_test_LL(res.x, test_df, state_rep, assoc, bayes_mixture)\n",
    "\n",
    "            #compile results\n",
    "            sub_results['sub'].append(sub)\n",
    "            sub_results['test_cond'].append(cond)\n",
    "            sub_results['alpha'].append(res.x[0])\n",
    "            sub_results['m'].append(res.x[1])\n",
    "            sub_results['fit_LL'].append(res.fun*-1)\n",
    "            sub_results['model'].append(state_rep)\n",
    "            sub_results['assoc'].append(assoc)\n",
    "            sub_results['bayes_mixture'].append(bayes_mixture)\n",
    "            sub_results['test_LL'].append(test_LL)\n",
    "            if assoc:\n",
    "                sub_results['gamma'].append(res.x[2])\n",
    "                if bayes_mixture:\n",
    "                    sub_results['epsilon'].append(res.x[3])\n",
    "                else:\n",
    "                    sub_results['epsilon'].append(0)\n",
    "            else:\n",
    "                sub_results['gamma'].append(0)            \n",
    "                if bayes_mixture:\n",
    "                    sub_results['epsilon'].append(res.x[2])\n",
    "                else:\n",
    "                    sub_results['epsilon'].append(0)\n",
    "\n",
    "        sub_results = pd.DataFrame(sub_results)\n",
    "        sub_results.to_csv(out_f,index = False)"
   ]
  },
  {
   "cell_type": "code",
   "execution_count": 13,
   "metadata": {
    "collapsed": false
   },
   "outputs": [],
   "source": [
    "states = ['naive','feature','exhaustive']\n",
    "in_tuples = []\n",
    "for sub in sub_list:\n",
    "    for assoc in [True,False]:\n",
    "        for state_rep in states:\n",
    "            for bayes_mixture in [True,False]:\n",
    "                in_tuples.append((sub,state_rep,assoc,bayes_mixture))"
   ]
  },
  {
   "cell_type": "code",
   "execution_count": 14,
   "metadata": {
    "collapsed": false
   },
   "outputs": [],
   "source": [
    "# dview = rc[0:3]\n",
    "# dview.block = True\n",
    "\n",
    "# dview.push(dict(get_train_LL = get_train_LL,\n",
    "#                get_test_LL = get_test_LL,\n",
    "#                df = df,\n",
    "#                bayes_predictions = bayes_predictions,\n",
    "#                parse_params = parse_params,\n",
    "#                state_to_features = state_to_features,\n",
    "#                update_Q = update_Q,\n",
    "#                get_LL = get_LL,\n",
    "#                get_prob = get_prob))\n",
    "# dview.execute(\"import numpy as np\")\n",
    "# dview.execute(\"import os.path as op\")\n",
    "# dview.execute(\"import pandas as pd\")\n",
    "# with dview.sync_imports():\n",
    "#     import os\n",
    "#     import scipy\n",
    "#     import scipy.stats\n",
    "# dview.map_sync(fit_model,in_tuples)"
   ]
  },
  {
   "cell_type": "code",
   "execution_count": 136,
   "metadata": {
    "collapsed": false
   },
   "outputs": [],
   "source": [
    "#load RL results\n",
    "results_df = []\n",
    "for in_tuple in in_tuples:\n",
    "    sub, state_rep, assoc, bayes_mixture = in_tuple\n",
    "    out_f = op.abspath('../model_fitting/' + '_'.join([sub,'assoc_' + str(assoc),state_rep,'mix_' + str(bayes_mixture)]) + '.csv')\n",
    "    sub_results = pd.read_csv(out_f)\n",
    "    results_df.append(sub_results.copy())\n",
    "results_df = pd.concat(results_df)\n",
    "\n",
    "#rename\n",
    "assoc_map = {True:'PH',False:'std','':''}\n",
    "bayes_map = {True:'Bayes',False:'','':''}\n",
    "\n",
    "results_df['model_id'] = [x + '_' + assoc_map[y] + '_' + bayes_map[z] for x,y,z in zip(results_df['model'],\n",
    "                                                                                         results_df['assoc'],\n",
    "                                                                                         results_df['bayes_mixture'])]\n",
    "\n",
    "#load bayes results\n",
    "bayes_results = []\n",
    "for sub in sub_list:\n",
    "    out_f = op.abspath('../model_fitting/' + '_'.join([sub,'bayes']) + '_nofit.csv')\n",
    "    sub_results = pd.read_csv(out_f)\n",
    "    bayes_results.append(sub_results.copy())\n",
    "bayes_results = pd.concat(bayes_results)\n",
    "bayes_results['model_id'] = 'bayes'\n",
    "bayes_results['bayes_mixture'] = False\n",
    "results_df = pd.concat([results_df,bayes_results])"
   ]
  },
  {
   "cell_type": "code",
   "execution_count": 152,
   "metadata": {
    "collapsed": false
   },
   "outputs": [
    {
     "data": {
      "text/html": [
       "<div>\n",
       "<table border=\"1\" class=\"dataframe\">\n",
       "  <thead>\n",
       "    <tr style=\"text-align: right;\">\n",
       "      <th></th>\n",
       "      <th>alpha</th>\n",
       "      <th>epsilon</th>\n",
       "      <th>fit_LL</th>\n",
       "      <th>gamma</th>\n",
       "      <th>m</th>\n",
       "      <th>test_LL</th>\n",
       "    </tr>\n",
       "    <tr>\n",
       "      <th>model_id</th>\n",
       "      <th></th>\n",
       "      <th></th>\n",
       "      <th></th>\n",
       "      <th></th>\n",
       "      <th></th>\n",
       "      <th></th>\n",
       "    </tr>\n",
       "  </thead>\n",
       "  <tbody>\n",
       "    <tr>\n",
       "      <th>bayes</th>\n",
       "      <td>NaN</td>\n",
       "      <td>0.85</td>\n",
       "      <td>-894.63</td>\n",
       "      <td>NaN</td>\n",
       "      <td>NaN</td>\n",
       "      <td>0.78</td>\n",
       "    </tr>\n",
       "    <tr>\n",
       "      <th>exhaustive_PH_</th>\n",
       "      <td>0.16</td>\n",
       "      <td>0.00</td>\n",
       "      <td>-40.15</td>\n",
       "      <td>0.31</td>\n",
       "      <td>1.91</td>\n",
       "      <td>0.73</td>\n",
       "    </tr>\n",
       "    <tr>\n",
       "      <th>exhaustive_PH_Bayes</th>\n",
       "      <td>0.20</td>\n",
       "      <td>0.43</td>\n",
       "      <td>-37.31</td>\n",
       "      <td>0.48</td>\n",
       "      <td>4.78</td>\n",
       "      <td>0.74</td>\n",
       "    </tr>\n",
       "    <tr>\n",
       "      <th>exhaustive_std_</th>\n",
       "      <td>0.13</td>\n",
       "      <td>0.00</td>\n",
       "      <td>-41.20</td>\n",
       "      <td>0.00</td>\n",
       "      <td>1.89</td>\n",
       "      <td>0.72</td>\n",
       "    </tr>\n",
       "    <tr>\n",
       "      <th>exhaustive_std_Bayes</th>\n",
       "      <td>0.16</td>\n",
       "      <td>0.47</td>\n",
       "      <td>-38.27</td>\n",
       "      <td>0.00</td>\n",
       "      <td>4.67</td>\n",
       "      <td>0.74</td>\n",
       "    </tr>\n",
       "    <tr>\n",
       "      <th>feature_PH_</th>\n",
       "      <td>0.25</td>\n",
       "      <td>0.00</td>\n",
       "      <td>-50.21</td>\n",
       "      <td>0.23</td>\n",
       "      <td>1.66</td>\n",
       "      <td>0.65</td>\n",
       "    </tr>\n",
       "    <tr>\n",
       "      <th>feature_PH_Bayes</th>\n",
       "      <td>0.08</td>\n",
       "      <td>0.73</td>\n",
       "      <td>-41.27</td>\n",
       "      <td>0.32</td>\n",
       "      <td>9.33</td>\n",
       "      <td>0.73</td>\n",
       "    </tr>\n",
       "    <tr>\n",
       "      <th>feature_std_</th>\n",
       "      <td>0.17</td>\n",
       "      <td>0.00</td>\n",
       "      <td>-51.65</td>\n",
       "      <td>0.00</td>\n",
       "      <td>1.49</td>\n",
       "      <td>0.64</td>\n",
       "    </tr>\n",
       "    <tr>\n",
       "      <th>feature_std_Bayes</th>\n",
       "      <td>0.13</td>\n",
       "      <td>0.74</td>\n",
       "      <td>-41.50</td>\n",
       "      <td>0.00</td>\n",
       "      <td>5.48</td>\n",
       "      <td>0.73</td>\n",
       "    </tr>\n",
       "    <tr>\n",
       "      <th>naive_PH_</th>\n",
       "      <td>0.40</td>\n",
       "      <td>0.00</td>\n",
       "      <td>-45.05</td>\n",
       "      <td>0.46</td>\n",
       "      <td>10.19</td>\n",
       "      <td>0.69</td>\n",
       "    </tr>\n",
       "    <tr>\n",
       "      <th>naive_PH_Bayes</th>\n",
       "      <td>0.35</td>\n",
       "      <td>0.58</td>\n",
       "      <td>-39.12</td>\n",
       "      <td>0.42</td>\n",
       "      <td>12.51</td>\n",
       "      <td>0.73</td>\n",
       "    </tr>\n",
       "    <tr>\n",
       "      <th>naive_std_</th>\n",
       "      <td>0.49</td>\n",
       "      <td>0.00</td>\n",
       "      <td>-45.05</td>\n",
       "      <td>0.00</td>\n",
       "      <td>9.58</td>\n",
       "      <td>0.69</td>\n",
       "    </tr>\n",
       "    <tr>\n",
       "      <th>naive_std_Bayes</th>\n",
       "      <td>0.56</td>\n",
       "      <td>0.58</td>\n",
       "      <td>-39.12</td>\n",
       "      <td>0.00</td>\n",
       "      <td>8.03</td>\n",
       "      <td>0.73</td>\n",
       "    </tr>\n",
       "  </tbody>\n",
       "</table>\n",
       "</div>"
      ],
      "text/plain": [
       "                      alpha  epsilon  fit_LL  gamma      m  test_LL\n",
       "model_id                                                           \n",
       "bayes                   NaN     0.85 -894.63    NaN    NaN     0.78\n",
       "exhaustive_PH_         0.16     0.00  -40.15   0.31   1.91     0.73\n",
       "exhaustive_PH_Bayes    0.20     0.43  -37.31   0.48   4.78     0.74\n",
       "exhaustive_std_        0.13     0.00  -41.20   0.00   1.89     0.72\n",
       "exhaustive_std_Bayes   0.16     0.47  -38.27   0.00   4.67     0.74\n",
       "feature_PH_            0.25     0.00  -50.21   0.23   1.66     0.65\n",
       "feature_PH_Bayes       0.08     0.73  -41.27   0.32   9.33     0.73\n",
       "feature_std_           0.17     0.00  -51.65   0.00   1.49     0.64\n",
       "feature_std_Bayes      0.13     0.74  -41.50   0.00   5.48     0.73\n",
       "naive_PH_              0.40     0.00  -45.05   0.46  10.19     0.69\n",
       "naive_PH_Bayes         0.35     0.58  -39.12   0.42  12.51     0.73\n",
       "naive_std_             0.49     0.00  -45.05   0.00   9.58     0.69\n",
       "naive_std_Bayes        0.56     0.58  -39.12   0.00   8.03     0.73"
      ]
     },
     "execution_count": 152,
     "metadata": {},
     "output_type": "execute_result"
    }
   ],
   "source": [
    "results_df.to_csv(home_dir + 'predictive_LL_results.csv',index = False)\n",
    "summary_df = results_df.groupby('model_id').mean().reset_index()\n",
    "summary_df = summary_df[['model_id','alpha','epsilon','fit_LL','gamma','m','test_LL']]\n",
    "summary_df.set_index('model_id').round(2)"
   ]
  },
  {
   "cell_type": "code",
   "execution_count": null,
   "metadata": {
    "collapsed": false
   },
   "outputs": [],
   "source": []
  },
  {
   "cell_type": "code",
   "execution_count": 106,
   "metadata": {
    "collapsed": false
   },
   "outputs": [
    {
     "data": {
      "image/png": "[encoded data removed]",
      "text/plain": [
       "<matplotlib.figure.Figure at 0x1255c9590>"
      ]
     },
     "metadata": {},
     "output_type": "display_data"
    }
   ],
   "source": [
    "sns.set_context('paper',font_scale = 2,rc={\"figure.figsize\": (20, 8)})\n",
    "sns.set_style(\"white\")\n",
    "fig_df = results_df[results_df['model'] != 'bayes']\n",
    "fig_df = fig_df[fig_df['bayes_mixture'] == False]\n",
    "fig_df = fig_df.groupby(['sub','assoc','model']).mean().reset_index().copy()\n",
    "\n",
    "assoc_map = {0.0:'Standard',1.0:'Pearce-Hall'}\n",
    "fig_df['model_type'] = [assoc_map[x] for x in fig_df['assoc']]\n",
    "ax = sns.barplot(x=\"model\", y=\"test_LL\", hue = 'model_type', data=fig_df,\n",
    "                palette = flatui)\n",
    "ax.set(ylim=(.5, 1))\n",
    "       \n",
    "sns.despine()\n",
    "plt.ylabel('Predictive Accuracy')\n",
    "plt.xlabel('')\n",
    "plt.savefig('../figures/revision/Pearce_hall.png',dpi=600)"
   ]
  },
  {
   "cell_type": "code",
   "execution_count": 121,
   "metadata": {
    "collapsed": false
   },
   "outputs": [
    {
     "data": {
      "image/png": "[encoded data removed]",
      "text/plain": [
       "<matplotlib.figure.Figure at 0x12712a850>"
      ]
     },
     "metadata": {},
     "output_type": "display_data"
    }
   ],
   "source": [
    "sns.set_context('paper',font_scale = 2,rc={\"figure.figsize\": (20, 8)})\n",
    "sns.set_style(\"white\")\n",
    "fig_df = results_df.groupby(['sub','model_id']).mean().reset_index().copy()\n",
    "\n",
    "#drop other conditions\n",
    "cond_order = ['feature_std_','naive_std_','exhaustive_std_','exhaustive_PH_','exhaustive_PH_Bayes','bayes']\n",
    "for m in set(fig_df['model_id']):\n",
    "    if m not in cond_order:\n",
    "        fig_df = fig_df[fig_df['model_id'] != m]\n",
    "\n",
    "#make pretty\n",
    "cond_names_figure = {'bayes':'Bayesian Rule Learning',\n",
    "                    'feature_std_': 'Feature RL',\n",
    "                     'naive_std_':'Naive RL',\n",
    "                     'exhaustive_std_': 'Exhaustive RL',\n",
    "                     'exhaustive_PH_': 'Exhaustive Pearce-Hall RL',\n",
    "                     'exhaustive_PH_Bayes': \"Bayesian-RL Mixture\"}\n",
    "fig_df['model_names'] = [cond_names_figure[x] for x in fig_df['model_id']]\n",
    "cond_order = [cond_names_figure[x] for x in cond_order]\n",
    "\n",
    "ax = sns.barplot(x=\"model_names\", y=\"test_LL\", order = cond_order, data=fig_df,\n",
    "                palette = flatui)\n",
    "ax.set(ylim=(.5, 1))\n",
    "       \n",
    "sns.despine()\n",
    "plt.ylabel('Predictive Accuracy')\n",
    "plt.xlabel('')\n",
    "plt.savefig('../figures/revision/predictive_likelihoods.svg',dpi=600)"
   ]
  },
  {
   "cell_type": "code",
   "execution_count": 105,
   "metadata": {
    "collapsed": false
   },
   "outputs": [
    {
     "name": "stdout",
     "output_type": "stream",
     "text": [
      "Ttest_relResult(statistic=0.16633269188118333, pvalue=0.87045427965104649)\n",
      "1.76502790494e-06\n"
     ]
    }
   ],
   "source": [
    "a = results_df.set_index('model_id').loc['naive_std_'].groupby('sub').mean()['test_LL'].values\n",
    "b = results_df.set_index('model_id').loc['naive_PH_'].groupby('sub').mean()['test_LL'].values\n",
    "\n",
    "print scipy.stats.ttest_rel(a, b)\n",
    "print np.mean(a) - np.mean(b)"
   ]
  },
  {
   "cell_type": "code",
   "execution_count": 122,
   "metadata": {
    "collapsed": false
   },
   "outputs": [
    {
     "data": {
      "image/png": "[encoded data removed]",
      "text/plain": [
       "<matplotlib.figure.Figure at 0x12764b190>"
      ]
     },
     "metadata": {},
     "output_type": "display_data"
    }
   ],
   "source": [
    "palette = [\"#fcbf4a\", \"#e52c66\"]\n",
    "plt.figure(figsize=(20, 8))\n",
    "fig_df = results_df.copy()\n",
    "\n",
    "cond_order = ['bayes','exhaustive_PH_']\n",
    "for m in set(fig_df['model_id']):\n",
    "    if m not in cond_order:\n",
    "        fig_df = fig_df[fig_df['model_id'] != m]\n",
    "        \n",
    "\n",
    "#make pretty\n",
    "cond_names_figure = {'bayes':'Bayesian Rule Learning',\n",
    "                     'exhaustive_PH_': 'Exhaustive Pierce-Hall RL'}\n",
    "fig_df['model_names'] = [cond_names_figure[x] for x in fig_df['model_id']]\n",
    "cond_order = [cond_names_figure[x] for x in cond_order]\n",
    "\n",
    "sns.pointplot(x=\"test_cond\", y=\"test_LL\",hue = 'model_names', join = False, dodge = .08, data=fig_df,\n",
    "             palette = palette)\n",
    "sns.despine()\n",
    "plt.ylabel('Predictive Accuracy')\n",
    "plt.xlabel('')\n",
    "plt.savefig('../figures/revision/rule_by_rule.svg',dpi=600)"
   ]
  },
  {
   "cell_type": "code",
   "execution_count": 123,
   "metadata": {
    "collapsed": false
   },
   "outputs": [
    {
     "name": "stdout",
     "output_type": "stream",
     "text": [
      "A 10.5434641507 9.70409156064e-08\n",
      "(A and B) or C 0.763268613285 0.458931293583\n",
      "A or B 5.34933055535 0.000132145692996\n",
      "A and B 5.77847563943 6.39962155625e-05\n",
      "(A or B) and C 4.79055981117 0.000352763832064\n",
      "A xor B -1.06778582509 0.305045240601\n"
     ]
    }
   ],
   "source": [
    "cond_df = pd.pivot_table(fig_df, values='test_LL', index=['test_cond', 'sub'],\n",
    "                   columns=['model_id'])\n",
    "for cond in set(cond_df.index.get_level_values(0)):\n",
    "    t,p = scipy.stats.ttest_rel(cond_df.loc[cond,'bayes'],\n",
    "                                cond_df.loc[cond,'exhaustive_PH_'])\n",
    "    print cond, t, p"
   ]
  },
  {
   "cell_type": "code",
   "execution_count": 127,
   "metadata": {
    "collapsed": false
   },
   "outputs": [
    {
     "name": "stdout",
     "output_type": "stream",
     "text": [
      "Anova Table (Type 3 tests)\n",
      "\n",
      "Response: diff\n",
      "     Effect          df  MSE         F ges p.value\n",
      "1 test_cond 3.39, 44.11 0.00 16.26 *** .38  <.0001\n",
      "\n",
      "Sphericity correction method: GG \n",
      "\n"
     ]
    }
   ],
   "source": [
    "rl = fig_df.set_index('model_id').loc['exhaustive_PH_'].sort_values(by = ['test_cond','sub'])\n",
    "bayes = fig_df.set_index('model_id').loc['bayes'].sort_values(by = ['test_cond','sub'])\n",
    "\n",
    "rl['diff'] = rl['test_LL'].values - bayes['test_LL'].values\n",
    "\n",
    "model = afex.aov_ez('sub', 'diff', data = rl, within='test_cond')\n",
    "print (model)\n",
    "\n",
    "\n",
    "# lsm  = importr('lsmeans')\n",
    "# pairwise = lsm.lsmeans(model, \"test_cond\", contr=\"pairwise\", adjust=\"holm\")\n",
    "# print pairwise"
   ]
  },
  {
   "cell_type": "markdown",
   "metadata": {},
   "source": [
    "# Fit with leave-one-subject-out"
   ]
  },
  {
   "cell_type": "code",
   "execution_count": 59,
   "metadata": {
    "collapsed": true
   },
   "outputs": [],
   "source": [
    "def get_train_LL_sub(params,train_df,state_rep,assoc,bayes_mixture):\n",
    "    \n",
    "    LL_all = 0\n",
    "    #loop through subs\n",
    "    for sub in set(train_df['sub']):\n",
    "        train_sub_df = train_df[train_df['sub'] == sub]\n",
    "        \n",
    "        LL_all += get_train_LL(params,train_sub_df,state_rep,assoc,bayes_mixture)\n",
    "    return LL_all"
   ]
  },
  {
   "cell_type": "code",
   "execution_count": 60,
   "metadata": {
    "collapsed": true
   },
   "outputs": [],
   "source": [
    "def fit_model_l1so(in_tuple):\n",
    "    sub, state_rep, assoc, bayes_mixture = in_tuple\n",
    "    out_f = op.abspath('../model_fitting/' + '_'.join([sub,'assoc_' + str(assoc),state_rep,'mix_' + str(bayes_mixture)]) + '_l1so.csv')\n",
    "\n",
    "    if not op.exists(out_f):\n",
    "    \n",
    "        sub_results = {'sub':[],'test_cond':[],\n",
    "                       'alpha':[],'m':[],'gamma':[],'epsilon':[],\n",
    "                       'fit_LL':[], 'model':[],'assoc':[],'bayes_mixture':[],'test_LL':[]}\n",
    "\n",
    "        sub_data = df[df['sub'] == sub]\n",
    "        train_df = df[df['sub'] != sub]\n",
    "        \n",
    "        #fit parameters to other conditions\n",
    "        if assoc:\n",
    "            if bayes_mixture:\n",
    "                params = [.2,2,0,0]\n",
    "                bounds =((0, 1), (0.01, 20), (0, 1), (0, 1))\n",
    "            else:\n",
    "                params = [.2,2,0]\n",
    "                bounds =((0, 1), (0.01, 20), (0, 1))\n",
    "        else:\n",
    "            if bayes_mixture:\n",
    "                params = [.2,2,0]\n",
    "                bounds =((0, 1), (0.01, 20), (0, 1))                \n",
    "            else:\n",
    "                params = [.2,2]\n",
    "                bounds =((0, 1), (0.01, 20))\n",
    "\n",
    "        res = scipy.optimize.minimize(get_train_LL_sub, \n",
    "                      params, \n",
    "                      args=(train_df, state_rep, assoc, bayes_mixture),\n",
    "                      options={'disp': True},\n",
    "                      bounds = bounds)\n",
    "\n",
    "        conds = set(sub_data['condition'])\n",
    "        for cond in conds:\n",
    "\n",
    "            #predict the likelihood of the held out condition\n",
    "            test_df = sub_data[sub_data['condition'] == cond]\n",
    "            test_LL = get_test_LL(res.x, test_df, state_rep, assoc, bayes_mixture)\n",
    "\n",
    "            #compile results\n",
    "            sub_results['sub'].append(sub)\n",
    "            sub_results['test_cond'].append(cond)\n",
    "            sub_results['alpha'].append(res.x[0])\n",
    "            sub_results['m'].append(res.x[1])\n",
    "            sub_results['fit_LL'].append(res.fun*-1)\n",
    "            sub_results['model'].append(state_rep)\n",
    "            sub_results['assoc'].append(assoc)\n",
    "            sub_results['bayes_mixture'].append(bayes_mixture)\n",
    "            sub_results['test_LL'].append(test_LL)\n",
    "            if assoc:\n",
    "                sub_results['gamma'].append(res.x[2])\n",
    "                if bayes_mixture:\n",
    "                    sub_results['epsilon'].append(res.x[3])\n",
    "                else:\n",
    "                    sub_results['epsilon'].append(0)\n",
    "            else:\n",
    "                sub_results['gamma'].append(0)            \n",
    "                if bayes_mixture:\n",
    "                    sub_results['epsilon'].append(res.x[2])\n",
    "                else:\n",
    "                    sub_results['epsilon'].append(0)\n",
    "\n",
    "        sub_results = pd.DataFrame(sub_results)\n",
    "        sub_results.to_csv(out_f,index = False)"
   ]
  },
  {
   "cell_type": "code",
   "execution_count": 62,
   "metadata": {
    "collapsed": false
   },
   "outputs": [],
   "source": [
    "# dview = rc[0:3]\n",
    "# dview.block = True\n",
    "\n",
    "# dview.push(dict(get_train_LL = get_train_LL,\n",
    "#                get_test_LL = get_test_LL,\n",
    "#                get_train_LL_sub = get_train_LL_sub,\n",
    "#                df = df,\n",
    "#                bayes_predictions = bayes_predictions,\n",
    "#                parse_params = parse_params,\n",
    "#                state_to_features = state_to_features,\n",
    "#                update_Q = update_Q,\n",
    "#                get_LL = get_LL,\n",
    "#                get_prob = get_prob))\n",
    "# dview.execute(\"import numpy as np\")\n",
    "# dview.execute(\"import os.path as op\")\n",
    "# dview.execute(\"import pandas as pd\")\n",
    "# with dview.sync_imports():\n",
    "#     import os\n",
    "#     import scipy\n",
    "#     import scipy.stats\n",
    "# dview.map_sync(fit_model_l1so,in_tuples)"
   ]
  },
  {
   "cell_type": "code",
   "execution_count": 75,
   "metadata": {
    "collapsed": false
   },
   "outputs": [],
   "source": [
    "#load RL results\n",
    "results_df = []\n",
    "for in_tuple in in_tuples:\n",
    "    sub, state_rep, assoc, bayes_mixture = in_tuple\n",
    "    out_f = op.abspath('../model_fitting/' + '_'.join([sub,'assoc_' + str(assoc),state_rep,'mix_' + str(bayes_mixture)]) + '_l1so.csv')\n",
    "    sub_results = pd.read_csv(out_f)\n",
    "    results_df.append(sub_results.copy())\n",
    "results_df = pd.concat(results_df)\n",
    "\n",
    "#rename\n",
    "assoc_map = {True:'PH',False:'std','':''}\n",
    "bayes_map = {True:'Bayes',False:'','':''}\n",
    "\n",
    "results_df['model_id'] = [x + '_' + assoc_map[y] + '_' + bayes_map[z] for x,y,z in zip(results_df['model'],\n",
    "                                                                                         results_df['assoc'],\n",
    "                                                                                         results_df['bayes_mixture'])]\n",
    "\n",
    "#load bayes results\n",
    "bayes_results = []\n",
    "for sub in sub_list:\n",
    "    out_f = op.abspath('../model_fitting/' + '_'.join([sub,'bayes']) + '_nofit.csv')\n",
    "    sub_results = pd.read_csv(out_f)\n",
    "    bayes_results.append(sub_results.copy())\n",
    "bayes_results = pd.concat(bayes_results)\n",
    "bayes_results['model_id'] = 'bayes'\n",
    "bayes_results['bayes_mixture'] = False\n",
    "results_df = pd.concat([results_df,bayes_results])"
   ]
  },
  {
   "cell_type": "code",
   "execution_count": 80,
   "metadata": {
    "collapsed": false
   },
   "outputs": [],
   "source": [
    "old_res = pd.read_csv(home_dir + 'predictie_LL_results.csv')\n",
    "results_df['diff'] = results_df['test_LL'].values - old_res['test_LL'].values"
   ]
  },
  {
   "cell_type": "code",
   "execution_count": 93,
   "metadata": {
    "collapsed": false
   },
   "outputs": [
    {
     "data": {
      "text/plain": [
       "0.23373030305999998"
      ]
     },
     "execution_count": 93,
     "metadata": {},
     "output_type": "execute_result"
    }
   ],
   "source": [
    "results_df.set_index('model_id').loc['feature_PH_'].groupby('sub').mean()['alpha'].min()"
   ]
  },
  {
   "cell_type": "code",
   "execution_count": 94,
   "metadata": {
    "collapsed": false
   },
   "outputs": [
    {
     "data": {
      "image/png": "[encoded data removed]",
      "text/plain": [
       "<matplotlib.figure.Figure at 0x1254d2290>"
      ]
     },
     "metadata": {},
     "output_type": "display_data"
    }
   ],
   "source": [
    "sns.set_context('paper',font_scale = 2,rc={\"figure.figsize\": (20, 8)})\n",
    "sns.set_style(\"white\")\n",
    "fig_df = results_df.groupby(['sub','model_id']).mean().reset_index().copy()\n",
    "\n",
    "#drop other conditions\n",
    "cond_order = ['feature_std_','naive_std_','exhaustive_std_','exhaustive_PH_','exhaustive_PH_Bayes','bayes']\n",
    "for m in set(fig_df['model_id']):\n",
    "    if m not in cond_order:\n",
    "        fig_df = fig_df[fig_df['model_id'] != m]\n",
    "\n",
    "#make pretty\n",
    "cond_names_figure = {'bayes':'Bayesian Rule Learning',\n",
    "                    'feature_std_': 'Feature RL',\n",
    "                     'naive_std_':'Naive RL',\n",
    "                     'exhaustive_std_': 'Exhaustive RL',\n",
    "                     'exhaustive_PH_': 'Exhaustive Pearce-Hall RL',\n",
    "                     'exhaustive_PH_Bayes': \"Bayesian-RL Mixture\"}\n",
    "fig_df['model_names'] = [cond_names_figure[x] for x in fig_df['model_id']]\n",
    "cond_order = [cond_names_figure[x] for x in cond_order]\n",
    "\n",
    "ax = sns.barplot(x=\"model_names\", y=\"test_LL\", order = cond_order, data=fig_df,\n",
    "                palette = flatui)\n",
    "ax.set(ylim=(.5, 1))\n",
    "       \n",
    "sns.despine()\n",
    "plt.ylabel('Predictive Accuracy')\n",
    "plt.xlabel('')\n",
    "plt.savefig('../figures/revision/predictive_likelihoods_l1so.png',dpi=600)"
   ]
  },
  {
   "cell_type": "markdown",
   "metadata": {},
   "source": [
    "# Fit noise parameter of the Bayesian model"
   ]
  },
  {
   "cell_type": "code",
   "execution_count": 20,
   "metadata": {
    "collapsed": false
   },
   "outputs": [],
   "source": [
    "def get_train_LL_bayes(params,train_df):\n",
    "    epsilon = params[0]\n",
    "\n",
    "    LL = 0\n",
    "    #loop through runs\n",
    "    for fit_cond in set(train_df['condition'].values):\n",
    "        c = train_df[train_df['condition'] == fit_cond]\n",
    "        outcomes = c['hits'].values\n",
    "        \n",
    "        #get bayesian model predictions\n",
    "        model_cond = bayes_predictions[bayes_predictions['condition'] == fit_cond]\n",
    "        model_cond = model_cond['hits'].values\n",
    "\n",
    "        for n,x in enumerate(outcomes):\n",
    "#             m_prob = (1-epsilon)*.5 + model_cond[n]*epsilon\n",
    "            m_prob = model_cond[n]\n",
    "#             m_prob = get_prob([m_prob, 1 - m_prob],epsilon)[0]\n",
    "            p = scipy.stats.bernoulli.pmf(x,m_prob)\n",
    "\n",
    "            if p < 1e-200 or np.isnan(p):\n",
    "                p = 1e-200            \n",
    "            LL += np.log(p)\n",
    "    \n",
    "    LL *= -1 #minimize\n",
    "    return LL"
   ]
  },
  {
   "cell_type": "code",
   "execution_count": 21,
   "metadata": {
    "collapsed": true
   },
   "outputs": [],
   "source": [
    "#compute the likelihood for run. Useful for rule-by-rule comparisone\n",
    "def get_test_LL_bayes(params,test_df):\n",
    "    \n",
    "    epsilon = params[0]\n",
    "    \n",
    "    outcomes = test_df['hits'].values\n",
    "    test_cond = test_df['condition'].values[0]\n",
    "    model_cond = bayes_predictions[bayes_predictions['condition'] == test_cond]\n",
    "    model_cond = model_cond['hits'].values\n",
    "    \n",
    "    prob = 0\n",
    "    for n,x in enumerate(outcomes):\n",
    "        m_prob = model_cond[n]\n",
    "#         m_prob = get_prob([m_prob, 1 - m_prob],epsilon)[0]\n",
    "#         m_prob = (1-epsilon)*.5 + model_cond[n]*epsilon\n",
    "        prob += scipy.stats.bernoulli.pmf(x, m_prob)         \n",
    "    \n",
    "    mean_prob = prob/len(outcomes)\n",
    "    return mean_prob"
   ]
  },
  {
   "cell_type": "code",
   "execution_count": 22,
   "metadata": {
    "collapsed": false
   },
   "outputs": [],
   "source": [
    "def fit_model_bayes(sub):\n",
    "    sub_results = {'sub':[],'test_cond':[],'alpha':[],'m':[],'gamma':[],'fit_LL':[],\n",
    "                   'model':[],'assoc':[],'test_LL':[],'epsilon':[]}\n",
    "\n",
    "    sub_data = df[df['sub'] == sub]\n",
    "\n",
    "    conds = set(sub_data['condition'])\n",
    "    for cond in conds:\n",
    "\n",
    "        #fit parameters to other conditions\n",
    "        train_df = sub_data[sub_data['condition'] != cond]\n",
    "        params = [.01]\n",
    "        bounds = [(.01, 20)]\n",
    "        \n",
    "        res = scipy.optimize.minimize(get_train_LL_bayes, \n",
    "                                      params, \n",
    "                                      args=(train_df),\n",
    "                                      options={'disp': True},\n",
    "                                      bounds = bounds)\n",
    "\n",
    "        #predict the likelihood of the held out condition\n",
    "        test_df = sub_data[sub_data['condition'] == cond]\n",
    "        test_LL = get_test_LL_bayes(res.x, test_df)\n",
    "\n",
    "        #compile results\n",
    "        sub_results['sub'].append(sub)\n",
    "        sub_results['test_cond'].append(cond)\n",
    "        sub_results['epsilon'].append(res.x[0])\n",
    "        sub_results['fit_LL'].append(res.fun*-1)\n",
    "        sub_results['model'].append('bayes')\n",
    "        sub_results['assoc'].append(None)\n",
    "        sub_results['test_LL'].append(test_LL)\n",
    "        sub_results['alpha'].append(np.NaN)\n",
    "        sub_results['m'].append(np.NaN)\n",
    "        sub_results['gamma'].append(np.NaN)\n",
    "\n",
    "    sub_results = pd.DataFrame(sub_results)\n",
    "    out_f = op.abspath('../model_fitting/' + '_'.join([sub,'bayes']) + '_softmax.csv')\n",
    "    sub_results.to_csv(out_f,index = False)"
   ]
  },
  {
   "cell_type": "code",
   "execution_count": 128,
   "metadata": {
    "collapsed": false
   },
   "outputs": [],
   "source": [
    "# dview = rc[0:3]\n",
    "# dview.block = True\n",
    "\n",
    "# dview.push(dict(get_train_LL_bayes = get_train_LL_bayes,\n",
    "#                 get_test_LL_bayes = get_test_LL_bayes,\n",
    "#                 df = df,\n",
    "#                 bayes_predictions = bayes_predictions))\n",
    "# dview.execute(\"import numpy as np\")\n",
    "# dview.execute(\"import os.path as op\")\n",
    "# dview.execute(\"import pandas as pd\")\n",
    "# with dview.sync_imports():\n",
    "#     import os\n",
    "#     import scipy\n",
    "#     import scipy.stats\n",
    "# dview.map_sync(fit_model_bayes,sub_list)"
   ]
  },
  {
   "cell_type": "code",
   "execution_count": 111,
   "metadata": {
    "collapsed": false
   },
   "outputs": [
    {
     "data": {
      "image/png": "[encoded data removed]",
      "text/plain": [
       "<matplotlib.figure.Figure at 0x12577dc50>"
      ]
     },
     "metadata": {},
     "output_type": "display_data"
    }
   ],
   "source": [
    "#load bayes results\n",
    "bayes_results = []\n",
    "for sub in sub_list:\n",
    "    out_f = op.abspath('../model_fitting/' + '_'.join([sub,'bayes']) + '_softmax.csv')\n",
    "    sub_results = pd.read_csv(out_f)\n",
    "    sub_results['Decision Rule'] = 'Softmax'\n",
    "    bayes_results.append(sub_results.copy())\n",
    "    \n",
    "    out_f = op.abspath('../model_fitting/' + '_'.join([sub,'bayes']) + '_nofit.csv')\n",
    "    sub_results = pd.read_csv(out_f)\n",
    "    sub_results['Decision Rule'] = 'Probability Matching'\n",
    "    bayes_results.append(sub_results.copy())    \n",
    "    \n",
    "bayes_results = pd.concat(bayes_results)\n",
    "\n",
    "\n",
    "ax = sns.barplot(x=\"Decision Rule\", y=\"test_LL\",data=bayes_results,\n",
    "                palette = flatui)\n",
    "ax.set(ylim=(.5, 1))\n",
    "       \n",
    "sns.despine()\n",
    "plt.ylabel('Predictive Accuracy')\n",
    "plt.xlabel('')\n",
    "plt.savefig('../figures/revision/bayes_noise.png',dpi=600)"
   ]
  },
  {
   "cell_type": "code",
   "execution_count": 115,
   "metadata": {
    "collapsed": false
   },
   "outputs": [
    {
     "data": {
      "text/plain": [
       "Ttest_relResult(statistic=3.8495635417889078, pvalue=0.0020091914859454657)"
      ]
     },
     "execution_count": 115,
     "metadata": {},
     "output_type": "execute_result"
    }
   ],
   "source": [
    "a = bayes_results.groupby(['Decision Rule','sub']).mean().loc['Probability Matching','test_LL'].values\n",
    "a = bayes_results.groupby(['Decision Rule','sub']).mean().loc['Softmax','test_LL'].values\n",
    "scipy.stats.ttest_rel(a,b)"
   ]
  },
  {
   "cell_type": "code",
   "execution_count": 132,
   "metadata": {
    "collapsed": false
   },
   "outputs": [
    {
     "name": "stdout",
     "output_type": "stream",
     "text": [
      "Anova Table (Type 3 tests)\n",
      "\n",
      "Response: test_LL\n",
      "     Effect          df  MSE         F ges p.value\n",
      "1 test_cond 2.46, 31.99 0.01 27.72 *** .62  <.0001\n",
      "\n",
      "Sphericity correction method: GG \n",
      "\n",
      "$lsmeans\n",
      " test_cond          lsmean         SE   df  lower.CL  upper.CL\n",
      " X.A.and.B..or.C 0.7308399 0.01962569 75.4 0.6917469 0.7699329\n",
      " X.A.or.B..and.C 0.8747951 0.01962569 75.4 0.8357021 0.9138881\n",
      " A               0.8797351 0.01962569 75.4 0.8406421 0.9188281\n",
      " A.and.B         0.8061605 0.01962569 75.4 0.7670675 0.8452535\n",
      " A.or.B          0.7991640 0.01962569 75.4 0.7600710 0.8382570\n",
      " A.xor.B         0.6166986 0.01962569 75.4 0.5776056 0.6557916\n",
      "\n",
      "Confidence level used: 0.95 \n",
      "\n",
      "$contrasts\n",
      " contrast                              estimate         SE df t.ratio p.value\n",
      " X.A.and.B..or.C - X.A.or.B..and.C -0.143955215 0.02657687 65  -5.417  <.0001\n",
      " X.A.and.B..or.C - A               -0.148895170 0.02657687 65  -5.602  <.0001\n",
      " X.A.and.B..or.C - A.and.B         -0.075320605 0.02657687 65  -2.834  0.0414\n",
      " X.A.and.B..or.C - A.or.B          -0.068324040 0.02657687 65  -2.571  0.0483\n",
      " X.A.and.B..or.C - A.xor.B          0.114141346 0.02657687 65   4.295  0.0005\n",
      " X.A.or.B..and.C - A               -0.004939955 0.02657687 65  -0.186  1.0000\n",
      " X.A.or.B..and.C - A.and.B          0.068634610 0.02657687 65   2.582  0.0483\n",
      " X.A.or.B..and.C - A.or.B           0.075631175 0.02657687 65   2.846  0.0414\n",
      " X.A.or.B..and.C - A.xor.B          0.258096562 0.02657687 65   9.711  <.0001\n",
      " A - A.and.B                        0.073574565 0.02657687 65   2.768  0.0414\n",
      " A - A.or.B                         0.080571130 0.02657687 65   3.032  0.0279\n",
      " A - A.xor.B                        0.263036517 0.02657687 65   9.897  <.0001\n",
      " A.and.B - A.or.B                   0.006996565 0.02657687 65   0.263  1.0000\n",
      " A.and.B - A.xor.B                  0.189461951 0.02657687 65   7.129  <.0001\n",
      " A.or.B - A.xor.B                   0.182465387 0.02657687 65   6.866  <.0001\n",
      "\n",
      "P value adjustment: holm method for 15 tests \n",
      "\n",
      "\n"
     ]
    }
   ],
   "source": [
    "#load bayes results\n",
    "bayes_results = []\n",
    "for sub in sub_list:\n",
    "    out_f = op.abspath('../model_fitting/' + '_'.join([sub,'bayes']) + '_nofit.csv')\n",
    "    sub_results = pd.read_csv(out_f)\n",
    "    bayes_results.append(sub_results.copy())    \n",
    "bayes_results = pd.concat(bayes_results)\n",
    "\n",
    "model = afex.aov_ez('sub', 'test_LL', data = bayes_results, within='test_cond')\n",
    "print (model)\n",
    "\n",
    "\n",
    "lsm  = importr('lsmeans')\n",
    "pairwise = lsm.lsmeans(model, \"test_cond\", contr=\"pairwise\", adjust=\"holm\")\n",
    "print pairwise"
   ]
  },
  {
   "cell_type": "code",
   "execution_count": null,
   "metadata": {
    "collapsed": true
   },
   "outputs": [],
   "source": []
  }
 ],
 "metadata": {
  "kernelspec": {
   "display_name": "Python 2",
   "language": "python",
   "name": "python2"
  },
  "language_info": {
   "codemirror_mode": {
    "name": "ipython",
    "version": 2
   },
   "file_extension": ".py",
   "mimetype": "text/x-python",
   "name": "python",
   "nbconvert_exporter": "python",
   "pygments_lexer": "ipython2",
   "version": "2.7.12"
  }
 },
 "nbformat": 4,
 "nbformat_minor": 0
}
